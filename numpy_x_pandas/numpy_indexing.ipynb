{
 "cells": [
  {
   "cell_type": "code",
   "execution_count": 1,
   "metadata": {},
   "outputs": [],
   "source": [
    "import numpy as np "
   ]
  },
  {
   "cell_type": "markdown",
   "metadata": {},
   "source": [
    "### 1-D Indexing"
   ]
  },
  {
   "cell_type": "code",
   "execution_count": 2,
   "metadata": {},
   "outputs": [
    {
     "output_type": "stream",
     "name": "stdout",
     "text": "[ 1  2  3  4  5  6  7  8  9 10]\n"
    }
   ],
   "source": [
    "numbers= [1, 2, 3, 4, 5, 6, 7, 8, 9, 10]\n",
    "# creating a 1-D array\n",
    "a= np.array(numbers)\n",
    "print(a)"
   ]
  },
  {
   "cell_type": "code",
   "execution_count": 5,
   "metadata": {},
   "outputs": [
    {
     "output_type": "stream",
     "name": "stdout",
     "text": "Index 0: 1\nIndex 5: 6\nIndex 7: 8\n"
    }
   ],
   "source": [
    "print(f\"Index 0: {a[0]}\\nIndex 5: {a[5]}\\nIndex 7: {a[7]}\")"
   ]
  },
  {
   "cell_type": "markdown",
   "metadata": {},
   "source": [
    "### 2-D Indexing"
   ]
  },
  {
   "cell_type": "code",
   "execution_count": 8,
   "metadata": {},
   "outputs": [
    {
     "output_type": "stream",
     "name": "stdout",
     "text": "[[  1   2   3   4   5   6   7   8   9  10]\n [ 10  20  30  40  50  60  70  80  90 100]]\n"
    }
   ],
   "source": [
    "big_numbers= [10, 20, 30, 40, 50, 60, 70, 80, 90, 100]\n",
    "# creating a 2-D array (list of list) \n",
    "b= np.array([numbers, big_numbers])\n",
    "print(b)"
   ]
  },
  {
   "cell_type": "code",
   "execution_count": 9,
   "metadata": {},
   "outputs": [
    {
     "output_type": "stream",
     "name": "stdout",
     "text": "50\n"
    }
   ],
   "source": [
    "print(b[1, 4])"
   ]
  },
  {
   "cell_type": "code",
   "execution_count": 10,
   "metadata": {},
   "outputs": [
    {
     "output_type": "stream",
     "name": "stdout",
     "text": "[ 1  2  3  4  5  6  7  8  9 10]\n"
    }
   ],
   "source": [
    "# print the first row\n",
    "print(b[0])"
   ]
  },
  {
   "cell_type": "code",
   "execution_count": 11,
   "metadata": {},
   "outputs": [
    {
     "output_type": "stream",
     "name": "stdout",
     "text": "[ 9 90]\n"
    }
   ],
   "source": [
    "# full slice, column 8\n",
    "print(b[:, 8])"
   ]
  },
  {
   "cell_type": "markdown",
   "metadata": {},
   "source": [
    "### 3-D Indexing"
   ]
  },
  {
   "cell_type": "code",
   "execution_count": 12,
   "metadata": {},
   "outputs": [
    {
     "output_type": "stream",
     "name": "stdout",
     "text": "[[[ 1  2  3]\n  [ 4  5  6]\n  [ 7  8  9]]\n\n [[10 11 12]\n  [13 14 15]\n  [16 17 18]]\n\n [[19 20 21]\n  [22 23 24]\n  [25 26 27]]]\n"
    }
   ],
   "source": [
    "# instantiating a 3-d array \n",
    "c= np.array([[[1, 2, 3], [4, 5, 6], [7, 8, 9]],\n",
    "             [[10, 11, 12], [13, 14, 15], [16, 17, 18]],\n",
    "             [[19, 20, 21], [22, 23, 24], [25, 26, 27]]])\n",
    "\n",
    "print(c)"
   ]
  },
  {
   "cell_type": "code",
   "execution_count": 15,
   "metadata": {},
   "outputs": [
    {
     "output_type": "stream",
     "name": "stdout",
     "text": "[[1 2 3]\n [4 5 6]\n [7 8 9]]\n"
    }
   ],
   "source": [
    "# selecting a row\n",
    "print(c[0])"
   ]
  },
  {
   "cell_type": "code",
   "execution_count": 18,
   "metadata": {},
   "outputs": [
    {
     "output_type": "stream",
     "name": "stdout",
     "text": "23\n"
    }
   ],
   "source": [
    "# accessing single elements\n",
    "print(c[2, 1, 1])"
   ]
  },
  {
   "cell_type": "code",
   "execution_count": 19,
   "metadata": {},
   "outputs": [
    {
     "output_type": "stream",
     "name": "stdout",
     "text": "[1 2 3]\n"
    }
   ],
   "source": [
    "# accessing matrix at index 0 and row 0 from that matrix\n",
    "print(c[0, 0])"
   ]
  },
  {
   "cell_type": "code",
   "execution_count": 20,
   "metadata": {},
   "outputs": [
    {
     "output_type": "stream",
     "name": "stdout",
     "text": "[12 15 18]\n"
    }
   ],
   "source": [
    "# selecting a column from a 3d matrix\n",
    "print(c[1, :, 2])"
   ]
  },
  {
   "cell_type": "code",
   "execution_count": 21,
   "metadata": {},
   "outputs": [
    {
     "output_type": "stream",
     "name": "stdout",
     "text": "[ 7 16 25]\n"
    }
   ],
   "source": [
    "# selecting the same row and column for each matrix\n",
    "print(c[:, 2, 0])"
   ]
  }
 ],
 "metadata": {
  "language_info": {
   "codemirror_mode": {
    "name": "ipython",
    "version": 3
   },
   "file_extension": ".py",
   "mimetype": "text/x-python",
   "name": "python",
   "nbconvert_exporter": "python",
   "pygments_lexer": "ipython3",
   "version": "3.8.2-final"
  },
  "orig_nbformat": 2,
  "kernelspec": {
   "name": "python38264bitconda17b1cc6b0e6f4854b7f0da0cf005d246",
   "display_name": "Python 3.8.2 64-bit (conda)"
  }
 },
 "nbformat": 4,
 "nbformat_minor": 2
}