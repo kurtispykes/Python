{
 "cells": [
  {
   "cell_type": "code",
   "execution_count": 14,
   "metadata": {},
   "outputs": [],
   "source": [
    "import numpy as np \n",
    "import time"
   ]
  },
  {
   "cell_type": "markdown",
   "metadata": {},
   "source": [
    "## Outer Product"
   ]
  },
  {
   "cell_type": "code",
   "execution_count": 31,
   "metadata": {},
   "outputs": [
    {
     "output_type": "stream",
     "name": "stdout",
     "text": "python_outer_product = [[0.0000000e+00 0.0000000e+00 0.0000000e+00 ... 0.0000000e+00\n  0.0000000e+00 0.0000000e+00]\n [0.0000000e+00 1.0000000e+00 2.0000000e+00 ... 9.9970000e+03\n  9.9980000e+03 9.9990000e+03]\n [0.0000000e+00 2.0000000e+00 4.0000000e+00 ... 1.9994000e+04\n  1.9996000e+04 1.9998000e+04]\n ...\n [0.0000000e+00 9.9970000e+03 1.9994000e+04 ... 9.9940009e+07\n  9.9950006e+07 9.9960003e+07]\n [0.0000000e+00 9.9980000e+03 1.9996000e+04 ... 9.9950006e+07\n  9.9960004e+07 9.9970002e+07]\n [0.0000000e+00 9.9990000e+03 1.9998000e+04 ... 9.9960003e+07\n  9.9970002e+07 9.9980001e+07]]\nTime = 159921.875ms\n\nnumpy_outer_product = [[       0        0        0 ...        0        0        0]\n [       0        1        2 ...     9997     9998     9999]\n [       0        2        4 ...    19994    19996    19998]\n ...\n [       0     9997    19994 ... 99940009 99950006 99960003]\n [       0     9998    19996 ... 99950006 99960004 99970002]\n [       0     9999    19998 ... 99960003 99970002 99980001]]\nTime = 328.125ms\n"
    }
   ],
   "source": [
    "a = np.arange(10000)\n",
    "b = np.arange(10000) \n",
    "  \n",
    "# pure Python outer product implementation  \n",
    "tic = time.process_time() \n",
    "outer_product = np.zeros((10000, 10000)) \n",
    "  \n",
    "for i in range(len(a)): \n",
    "   for j in range(len(b)): \n",
    "      outer_product[i][j]= a[i] * b[j] \n",
    "  \n",
    "toc = time.process_time() \n",
    "  \n",
    "print(\"python_outer_product = \"+ str(outer_product)); \n",
    "print(\"Time = \"+str(1000*(toc - tic ))+\"ms\\n\") \n",
    "\n",
    "# Numpy implementation\n",
    "n_tic = time.process_time() \n",
    "outer_product = np.outer(a, b) \n",
    "n_toc = time.process_time() \n",
    "  \n",
    "print(\"numpy_outer_product = \"+str(outer_product)); \n",
    "print(\"Time = \"+str(1000*(n_toc - n_tic ))+\"ms\")"
   ]
  },
  {
   "cell_type": "markdown",
   "metadata": {},
   "source": [
    "## Dot Product"
   ]
  },
  {
   "cell_type": "code",
   "execution_count": 34,
   "metadata": {},
   "outputs": [
    {
     "output_type": "stream",
     "name": "stdout",
     "text": "python_dot_product = -1039031360\nTime = 53125.0ms\n\nnumpy_dot_product = -1039031360\nTime = 15.625ms\n"
    }
   ],
   "source": [
    "a = np.arange(10000000)\n",
    "b = np.arange(10000000)\n",
    "\n",
    "# pure Python outer product implementation  \n",
    "tic = time.process_time() \n",
    "\n",
    "dot_product = 0\n",
    "for i in range(len(a)): \n",
    "    dot_product += a[i] * b[i]\n",
    "\n",
    "toc = time.process_time() \n",
    "  \n",
    "print(\"python_dot_product = \"+ str(dot_product)); \n",
    "print(\"Time = \"+str(1000*(toc - tic ))+\"ms\\n\") \n",
    "\n",
    "# Numpy implementation\n",
    "n_tic = time.process_time() \n",
    "dot_product = np.dot(a, b) \n",
    "n_toc = time.process_time() \n",
    "  \n",
    "print(\"numpy_dot_product = \"+str(dot_product)); \n",
    "print(\"Time = \"+str(1000*(n_toc - n_tic ))+\"ms\")"
   ]
  },
  {
   "cell_type": "code",
   "execution_count": null,
   "metadata": {},
   "outputs": [],
   "source": []
  }
 ],
 "metadata": {
  "language_info": {
   "codemirror_mode": {
    "name": "ipython",
    "version": 3
   },
   "file_extension": ".py",
   "mimetype": "text/x-python",
   "name": "python",
   "nbconvert_exporter": "python",
   "pygments_lexer": "ipython3",
   "version": "3.8.2-final"
  },
  "orig_nbformat": 2,
  "kernelspec": {
   "name": "python38264bitconda17b1cc6b0e6f4854b7f0da0cf005d246",
   "display_name": "Python 3.8.2 64-bit (conda)"
  }
 },
 "nbformat": 4,
 "nbformat_minor": 2
}