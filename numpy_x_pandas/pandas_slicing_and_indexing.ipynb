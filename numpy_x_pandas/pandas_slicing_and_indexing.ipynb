{
 "cells": [
  {
   "cell_type": "code",
   "execution_count": 1,
   "metadata": {},
   "outputs": [],
   "source": [
    "import pandas as pd \n",
    "import numpy as np"
   ]
  },
  {
   "cell_type": "code",
   "execution_count": 3,
   "metadata": {},
   "outputs": [
    {
     "output_type": "execute_result",
     "data": {
      "text/plain": "      col_1     col_2     col_3     col_4     col_5\n0  0.322292  0.770114  0.988133  0.485027  0.072073\n1  0.739063  0.975319  0.700919  0.278852  0.873513\n2  0.143394  0.821405  0.900299  0.321988  0.415693\n3  0.786752  0.563219  0.776299  0.651507  0.934423\n4  0.581952  0.441311  0.022910  0.424256  0.279161",
      "text/html": "<div>\n<style scoped>\n    .dataframe tbody tr th:only-of-type {\n        vertical-align: middle;\n    }\n\n    .dataframe tbody tr th {\n        vertical-align: top;\n    }\n\n    .dataframe thead th {\n        text-align: right;\n    }\n</style>\n<table border=\"1\" class=\"dataframe\">\n  <thead>\n    <tr style=\"text-align: right;\">\n      <th></th>\n      <th>col_1</th>\n      <th>col_2</th>\n      <th>col_3</th>\n      <th>col_4</th>\n      <th>col_5</th>\n    </tr>\n  </thead>\n  <tbody>\n    <tr>\n      <th>0</th>\n      <td>0.322292</td>\n      <td>0.770114</td>\n      <td>0.988133</td>\n      <td>0.485027</td>\n      <td>0.072073</td>\n    </tr>\n    <tr>\n      <th>1</th>\n      <td>0.739063</td>\n      <td>0.975319</td>\n      <td>0.700919</td>\n      <td>0.278852</td>\n      <td>0.873513</td>\n    </tr>\n    <tr>\n      <th>2</th>\n      <td>0.143394</td>\n      <td>0.821405</td>\n      <td>0.900299</td>\n      <td>0.321988</td>\n      <td>0.415693</td>\n    </tr>\n    <tr>\n      <th>3</th>\n      <td>0.786752</td>\n      <td>0.563219</td>\n      <td>0.776299</td>\n      <td>0.651507</td>\n      <td>0.934423</td>\n    </tr>\n    <tr>\n      <th>4</th>\n      <td>0.581952</td>\n      <td>0.441311</td>\n      <td>0.022910</td>\n      <td>0.424256</td>\n      <td>0.279161</td>\n    </tr>\n  </tbody>\n</table>\n</div>"
     },
     "metadata": {},
     "execution_count": 3
    }
   ],
   "source": [
    "# creating a dataframe\n",
    "df = pd.DataFrame(np.random.rand(5, 5),\n",
    "                  columns=[\"col_1\", \"col_2\", \"col_3\", \"col_4\", \"col_5\"])\n",
    "\n",
    "df"
   ]
  },
  {
   "cell_type": "code",
   "execution_count": 11,
   "metadata": {},
   "outputs": [
    {
     "output_type": "execute_result",
     "data": {
      "text/plain": "0    0.32\n1    0.74\n2    0.14\n3    0.79\n4    0.58\nName: col_1, dtype: float64"
     },
     "metadata": {},
     "execution_count": 11
    }
   ],
   "source": [
    "# access all elements in \"col_1\"\n",
    "df[\"col_1\"]"
   ]
  },
  {
   "cell_type": "code",
   "execution_count": 6,
   "metadata": {},
   "outputs": [
    {
     "output_type": "execute_result",
     "data": {
      "text/plain": "0.7390631428753759"
     },
     "metadata": {},
     "execution_count": 6
    }
   ],
   "source": [
    "a= df[\"col_1\"]\n",
    "\n",
    "a[1]"
   ]
  },
  {
   "cell_type": "code",
   "execution_count": 7,
   "metadata": {},
   "outputs": [
    {
     "output_type": "execute_result",
     "data": {
      "text/plain": "      col_2     col_3     col_4\n0  0.770114  0.988133  0.485027\n1  0.975319  0.700919  0.278852\n2  0.821405  0.900299  0.321988\n3  0.563219  0.776299  0.651507\n4  0.441311  0.022910  0.424256",
      "text/html": "<div>\n<style scoped>\n    .dataframe tbody tr th:only-of-type {\n        vertical-align: middle;\n    }\n\n    .dataframe tbody tr th {\n        vertical-align: top;\n    }\n\n    .dataframe thead th {\n        text-align: right;\n    }\n</style>\n<table border=\"1\" class=\"dataframe\">\n  <thead>\n    <tr style=\"text-align: right;\">\n      <th></th>\n      <th>col_2</th>\n      <th>col_3</th>\n      <th>col_4</th>\n    </tr>\n  </thead>\n  <tbody>\n    <tr>\n      <th>0</th>\n      <td>0.770114</td>\n      <td>0.988133</td>\n      <td>0.485027</td>\n    </tr>\n    <tr>\n      <th>1</th>\n      <td>0.975319</td>\n      <td>0.700919</td>\n      <td>0.278852</td>\n    </tr>\n    <tr>\n      <th>2</th>\n      <td>0.821405</td>\n      <td>0.900299</td>\n      <td>0.321988</td>\n    </tr>\n    <tr>\n      <th>3</th>\n      <td>0.563219</td>\n      <td>0.776299</td>\n      <td>0.651507</td>\n    </tr>\n    <tr>\n      <th>4</th>\n      <td>0.441311</td>\n      <td>0.022910</td>\n      <td>0.424256</td>\n    </tr>\n  </tbody>\n</table>\n</div>"
     },
     "metadata": {},
     "execution_count": 7
    }
   ],
   "source": [
    "df[[\"col_2\", \"col_3\", \"col_4\"]]"
   ]
  },
  {
   "cell_type": "markdown",
   "metadata": {},
   "source": [
    "## Selection by label"
   ]
  },
  {
   "cell_type": "code",
   "execution_count": 17,
   "metadata": {},
   "outputs": [
    {
     "output_type": "execute_result",
     "data": {
      "text/plain": "          A         B         C         D\na  0.952954 -1.310324 -1.376740  0.276258\nb  1.493595  0.539705  0.969513 -0.617174\nc  0.611367  0.488150  1.022522  0.229638\nd -0.650225  1.571667 -1.204090  0.637101\ne  0.560311 -0.649682 -0.768907  0.977468\nf -1.647243 -1.217747  0.783886  0.401624\ng  0.970983 -1.508581 -0.842256 -0.659852\nh  1.271112  2.321445  0.033766  0.984220\ni  0.126584 -0.203787  1.253717  0.947080\nj -1.679669 -0.479596  2.071345  1.182526",
      "text/html": "<div>\n<style scoped>\n    .dataframe tbody tr th:only-of-type {\n        vertical-align: middle;\n    }\n\n    .dataframe tbody tr th {\n        vertical-align: top;\n    }\n\n    .dataframe thead th {\n        text-align: right;\n    }\n</style>\n<table border=\"1\" class=\"dataframe\">\n  <thead>\n    <tr style=\"text-align: right;\">\n      <th></th>\n      <th>A</th>\n      <th>B</th>\n      <th>C</th>\n      <th>D</th>\n    </tr>\n  </thead>\n  <tbody>\n    <tr>\n      <th>a</th>\n      <td>0.952954</td>\n      <td>-1.310324</td>\n      <td>-1.376740</td>\n      <td>0.276258</td>\n    </tr>\n    <tr>\n      <th>b</th>\n      <td>1.493595</td>\n      <td>0.539705</td>\n      <td>0.969513</td>\n      <td>-0.617174</td>\n    </tr>\n    <tr>\n      <th>c</th>\n      <td>0.611367</td>\n      <td>0.488150</td>\n      <td>1.022522</td>\n      <td>0.229638</td>\n    </tr>\n    <tr>\n      <th>d</th>\n      <td>-0.650225</td>\n      <td>1.571667</td>\n      <td>-1.204090</td>\n      <td>0.637101</td>\n    </tr>\n    <tr>\n      <th>e</th>\n      <td>0.560311</td>\n      <td>-0.649682</td>\n      <td>-0.768907</td>\n      <td>0.977468</td>\n    </tr>\n    <tr>\n      <th>f</th>\n      <td>-1.647243</td>\n      <td>-1.217747</td>\n      <td>0.783886</td>\n      <td>0.401624</td>\n    </tr>\n    <tr>\n      <th>g</th>\n      <td>0.970983</td>\n      <td>-1.508581</td>\n      <td>-0.842256</td>\n      <td>-0.659852</td>\n    </tr>\n    <tr>\n      <th>h</th>\n      <td>1.271112</td>\n      <td>2.321445</td>\n      <td>0.033766</td>\n      <td>0.984220</td>\n    </tr>\n    <tr>\n      <th>i</th>\n      <td>0.126584</td>\n      <td>-0.203787</td>\n      <td>1.253717</td>\n      <td>0.947080</td>\n    </tr>\n    <tr>\n      <th>j</th>\n      <td>-1.679669</td>\n      <td>-0.479596</td>\n      <td>2.071345</td>\n      <td>1.182526</td>\n    </tr>\n  </tbody>\n</table>\n</div>"
     },
     "metadata": {},
     "execution_count": 17
    }
   ],
   "source": [
    "new_df = pd.DataFrame(np.random.randn(10, 4), index=list(\"abcdefghij\"),\n",
    "                      columns=list(\"ABCD\"))\n",
    "new_df"
   ]
  },
  {
   "cell_type": "code",
   "execution_count": 19,
   "metadata": {},
   "outputs": [
    {
     "output_type": "execute_result",
     "data": {
      "text/plain": "A    0.952954\nB   -1.310324\nC   -1.376740\nD    0.276258\nName: a, dtype: float64"
     },
     "metadata": {},
     "execution_count": 19
    }
   ],
   "source": [
    "# cross section using a label\n",
    "new_df.loc[\"a\"]"
   ]
  },
  {
   "cell_type": "code",
   "execution_count": 20,
   "metadata": {},
   "outputs": [
    {
     "output_type": "execute_result",
     "data": {
      "text/plain": "          A         B         C         D\na  0.952954 -1.310324 -1.376740  0.276258\nd -0.650225  1.571667 -1.204090  0.637101\ni  0.126584 -0.203787  1.253717  0.947080",
      "text/html": "<div>\n<style scoped>\n    .dataframe tbody tr th:only-of-type {\n        vertical-align: middle;\n    }\n\n    .dataframe tbody tr th {\n        vertical-align: top;\n    }\n\n    .dataframe thead th {\n        text-align: right;\n    }\n</style>\n<table border=\"1\" class=\"dataframe\">\n  <thead>\n    <tr style=\"text-align: right;\">\n      <th></th>\n      <th>A</th>\n      <th>B</th>\n      <th>C</th>\n      <th>D</th>\n    </tr>\n  </thead>\n  <tbody>\n    <tr>\n      <th>a</th>\n      <td>0.952954</td>\n      <td>-1.310324</td>\n      <td>-1.376740</td>\n      <td>0.276258</td>\n    </tr>\n    <tr>\n      <th>d</th>\n      <td>-0.650225</td>\n      <td>1.571667</td>\n      <td>-1.204090</td>\n      <td>0.637101</td>\n    </tr>\n    <tr>\n      <th>i</th>\n      <td>0.126584</td>\n      <td>-0.203787</td>\n      <td>1.253717</td>\n      <td>0.947080</td>\n    </tr>\n  </tbody>\n</table>\n</div>"
     },
     "metadata": {},
     "execution_count": 20
    }
   ],
   "source": [
    "# a list or array of labels\n",
    "new_df.loc[[\"a\", \"d\", \"i\"]] # equivalent to new_df.loc[[\"a\", \"b\", \"c\"], :]"
   ]
  },
  {
   "cell_type": "code",
   "execution_count": 28,
   "metadata": {},
   "outputs": [
    {
     "output_type": "execute_result",
     "data": {
      "text/plain": "          B         C         D\na -1.310324 -1.376740  0.276258\nb  0.539705  0.969513 -0.617174\nc  0.488150  1.022522  0.229638\nd  1.571667 -1.204090  0.637101",
      "text/html": "<div>\n<style scoped>\n    .dataframe tbody tr th:only-of-type {\n        vertical-align: middle;\n    }\n\n    .dataframe tbody tr th {\n        vertical-align: top;\n    }\n\n    .dataframe thead th {\n        text-align: right;\n    }\n</style>\n<table border=\"1\" class=\"dataframe\">\n  <thead>\n    <tr style=\"text-align: right;\">\n      <th></th>\n      <th>B</th>\n      <th>C</th>\n      <th>D</th>\n    </tr>\n  </thead>\n  <tbody>\n    <tr>\n      <th>a</th>\n      <td>-1.310324</td>\n      <td>-1.376740</td>\n      <td>0.276258</td>\n    </tr>\n    <tr>\n      <th>b</th>\n      <td>0.539705</td>\n      <td>0.969513</td>\n      <td>-0.617174</td>\n    </tr>\n    <tr>\n      <th>c</th>\n      <td>0.488150</td>\n      <td>1.022522</td>\n      <td>0.229638</td>\n    </tr>\n    <tr>\n      <th>d</th>\n      <td>1.571667</td>\n      <td>-1.204090</td>\n      <td>0.637101</td>\n    </tr>\n  </tbody>\n</table>\n</div>"
     },
     "metadata": {},
     "execution_count": 28
    }
   ],
   "source": [
    "# slice with label\n",
    "new_df.loc[\"a\":\"d\", \"B\":]"
   ]
  },
  {
   "cell_type": "code",
   "execution_count": 23,
   "metadata": {},
   "outputs": [
    {
     "output_type": "execute_result",
     "data": {
      "text/plain": "A    False\nB    False\nC     True\nD     True\nName: j, dtype: bool"
     },
     "metadata": {},
     "execution_count": 23
    }
   ],
   "source": [
    "# a boolean array\n",
    "new_df.loc[\"j\"] > 0.5"
   ]
  },
  {
   "cell_type": "code",
   "execution_count": 26,
   "metadata": {},
   "outputs": [
    {
     "output_type": "execute_result",
     "data": {
      "text/plain": "          C         D\na -1.376740  0.276258\nb  0.969513 -0.617174\nc  1.022522  0.229638\nd -1.204090  0.637101\ne -0.768907  0.977468\nf  0.783886  0.401624\ng -0.842256 -0.659852\nh  0.033766  0.984220\ni  1.253717  0.947080\nj  2.071345  1.182526",
      "text/html": "<div>\n<style scoped>\n    .dataframe tbody tr th:only-of-type {\n        vertical-align: middle;\n    }\n\n    .dataframe tbody tr th {\n        vertical-align: top;\n    }\n\n    .dataframe thead th {\n        text-align: right;\n    }\n</style>\n<table border=\"1\" class=\"dataframe\">\n  <thead>\n    <tr style=\"text-align: right;\">\n      <th></th>\n      <th>C</th>\n      <th>D</th>\n    </tr>\n  </thead>\n  <tbody>\n    <tr>\n      <th>a</th>\n      <td>-1.376740</td>\n      <td>0.276258</td>\n    </tr>\n    <tr>\n      <th>b</th>\n      <td>0.969513</td>\n      <td>-0.617174</td>\n    </tr>\n    <tr>\n      <th>c</th>\n      <td>1.022522</td>\n      <td>0.229638</td>\n    </tr>\n    <tr>\n      <th>d</th>\n      <td>-1.204090</td>\n      <td>0.637101</td>\n    </tr>\n    <tr>\n      <th>e</th>\n      <td>-0.768907</td>\n      <td>0.977468</td>\n    </tr>\n    <tr>\n      <th>f</th>\n      <td>0.783886</td>\n      <td>0.401624</td>\n    </tr>\n    <tr>\n      <th>g</th>\n      <td>-0.842256</td>\n      <td>-0.659852</td>\n    </tr>\n    <tr>\n      <th>h</th>\n      <td>0.033766</td>\n      <td>0.984220</td>\n    </tr>\n    <tr>\n      <th>i</th>\n      <td>1.253717</td>\n      <td>0.947080</td>\n    </tr>\n    <tr>\n      <th>j</th>\n      <td>2.071345</td>\n      <td>1.182526</td>\n    </tr>\n  </tbody>\n</table>\n</div>"
     },
     "metadata": {},
     "execution_count": 26
    }
   ],
   "source": [
    "# a boolean array \n",
    "new_df.loc[:, new_df.loc[\"j\"] > 0.5]"
   ]
  },
  {
   "cell_type": "markdown",
   "metadata": {},
   "source": [
    "## Selection by position"
   ]
  },
  {
   "cell_type": "code",
   "execution_count": 30,
   "metadata": {},
   "outputs": [
    {
     "output_type": "execute_result",
     "data": {
      "text/plain": "          A         B         C         D\n0  0.952954 -1.310324 -1.376740  0.276258\n1  1.493595  0.539705  0.969513 -0.617174\n2  0.611367  0.488150  1.022522  0.229638\n3 -0.650225  1.571667 -1.204090  0.637101\n4  0.560311 -0.649682 -0.768907  0.977468\n5 -1.647243 -1.217747  0.783886  0.401624\n6  0.970983 -1.508581 -0.842256 -0.659852\n7  1.271112  2.321445  0.033766  0.984220\n8  0.126584 -0.203787  1.253717  0.947080\n9 -1.679669 -0.479596  2.071345  1.182526",
      "text/html": "<div>\n<style scoped>\n    .dataframe tbody tr th:only-of-type {\n        vertical-align: middle;\n    }\n\n    .dataframe tbody tr th {\n        vertical-align: top;\n    }\n\n    .dataframe thead th {\n        text-align: right;\n    }\n</style>\n<table border=\"1\" class=\"dataframe\">\n  <thead>\n    <tr style=\"text-align: right;\">\n      <th></th>\n      <th>A</th>\n      <th>B</th>\n      <th>C</th>\n      <th>D</th>\n    </tr>\n  </thead>\n  <tbody>\n    <tr>\n      <th>0</th>\n      <td>0.952954</td>\n      <td>-1.310324</td>\n      <td>-1.376740</td>\n      <td>0.276258</td>\n    </tr>\n    <tr>\n      <th>1</th>\n      <td>1.493595</td>\n      <td>0.539705</td>\n      <td>0.969513</td>\n      <td>-0.617174</td>\n    </tr>\n    <tr>\n      <th>2</th>\n      <td>0.611367</td>\n      <td>0.488150</td>\n      <td>1.022522</td>\n      <td>0.229638</td>\n    </tr>\n    <tr>\n      <th>3</th>\n      <td>-0.650225</td>\n      <td>1.571667</td>\n      <td>-1.204090</td>\n      <td>0.637101</td>\n    </tr>\n    <tr>\n      <th>4</th>\n      <td>0.560311</td>\n      <td>-0.649682</td>\n      <td>-0.768907</td>\n      <td>0.977468</td>\n    </tr>\n    <tr>\n      <th>5</th>\n      <td>-1.647243</td>\n      <td>-1.217747</td>\n      <td>0.783886</td>\n      <td>0.401624</td>\n    </tr>\n    <tr>\n      <th>6</th>\n      <td>0.970983</td>\n      <td>-1.508581</td>\n      <td>-0.842256</td>\n      <td>-0.659852</td>\n    </tr>\n    <tr>\n      <th>7</th>\n      <td>1.271112</td>\n      <td>2.321445</td>\n      <td>0.033766</td>\n      <td>0.984220</td>\n    </tr>\n    <tr>\n      <th>8</th>\n      <td>0.126584</td>\n      <td>-0.203787</td>\n      <td>1.253717</td>\n      <td>0.947080</td>\n    </tr>\n    <tr>\n      <th>9</th>\n      <td>-1.679669</td>\n      <td>-0.479596</td>\n      <td>2.071345</td>\n      <td>1.182526</td>\n    </tr>\n  </tbody>\n</table>\n</div>"
     },
     "metadata": {},
     "execution_count": 30
    }
   ],
   "source": [
    "# using same df but new index values \n",
    "new_df.index = list(range(0, 10))\n",
    "new_df"
   ]
  },
  {
   "cell_type": "code",
   "execution_count": 31,
   "metadata": {},
   "outputs": [
    {
     "output_type": "execute_result",
     "data": {
      "text/plain": "A   -0.650225\nB    1.571667\nC   -1.204090\nD    0.637101\nName: 3, dtype: float64"
     },
     "metadata": {},
     "execution_count": 31
    }
   ],
   "source": [
    "# cross section using an integer position\n",
    "new_df.iloc[3]"
   ]
  },
  {
   "cell_type": "code",
   "execution_count": 34,
   "metadata": {},
   "outputs": [
    {
     "output_type": "execute_result",
     "data": {
      "text/plain": "          A         B         C         D\n1  1.493595  0.539705  0.969513 -0.617174\n5 -1.647243 -1.217747  0.783886  0.401624\n2  0.611367  0.488150  1.022522  0.229638\n3 -0.650225  1.571667 -1.204090  0.637101",
      "text/html": "<div>\n<style scoped>\n    .dataframe tbody tr th:only-of-type {\n        vertical-align: middle;\n    }\n\n    .dataframe tbody tr th {\n        vertical-align: top;\n    }\n\n    .dataframe thead th {\n        text-align: right;\n    }\n</style>\n<table border=\"1\" class=\"dataframe\">\n  <thead>\n    <tr style=\"text-align: right;\">\n      <th></th>\n      <th>A</th>\n      <th>B</th>\n      <th>C</th>\n      <th>D</th>\n    </tr>\n  </thead>\n  <tbody>\n    <tr>\n      <th>1</th>\n      <td>1.493595</td>\n      <td>0.539705</td>\n      <td>0.969513</td>\n      <td>-0.617174</td>\n    </tr>\n    <tr>\n      <th>5</th>\n      <td>-1.647243</td>\n      <td>-1.217747</td>\n      <td>0.783886</td>\n      <td>0.401624</td>\n    </tr>\n    <tr>\n      <th>2</th>\n      <td>0.611367</td>\n      <td>0.488150</td>\n      <td>1.022522</td>\n      <td>0.229638</td>\n    </tr>\n    <tr>\n      <th>3</th>\n      <td>-0.650225</td>\n      <td>1.571667</td>\n      <td>-1.204090</td>\n      <td>0.637101</td>\n    </tr>\n  </tbody>\n</table>\n</div>"
     },
     "metadata": {},
     "execution_count": 34
    }
   ],
   "source": [
    "# list or array of integers\n",
    "new_df.iloc[[1, 5, 2, 3]]"
   ]
  },
  {
   "cell_type": "code",
   "execution_count": 41,
   "metadata": {},
   "outputs": [
    {
     "output_type": "execute_result",
     "data": {
      "text/plain": "          A         B         C\n1  1.493595  0.539705  0.969513\n2  0.611367  0.488150  1.022522\n3 -0.650225  1.571667 -1.204090\n4  0.560311 -0.649682 -0.768907",
      "text/html": "<div>\n<style scoped>\n    .dataframe tbody tr th:only-of-type {\n        vertical-align: middle;\n    }\n\n    .dataframe tbody tr th {\n        vertical-align: top;\n    }\n\n    .dataframe thead th {\n        text-align: right;\n    }\n</style>\n<table border=\"1\" class=\"dataframe\">\n  <thead>\n    <tr style=\"text-align: right;\">\n      <th></th>\n      <th>A</th>\n      <th>B</th>\n      <th>C</th>\n    </tr>\n  </thead>\n  <tbody>\n    <tr>\n      <th>1</th>\n      <td>1.493595</td>\n      <td>0.539705</td>\n      <td>0.969513</td>\n    </tr>\n    <tr>\n      <th>2</th>\n      <td>0.611367</td>\n      <td>0.488150</td>\n      <td>1.022522</td>\n    </tr>\n    <tr>\n      <th>3</th>\n      <td>-0.650225</td>\n      <td>1.571667</td>\n      <td>-1.204090</td>\n    </tr>\n    <tr>\n      <th>4</th>\n      <td>0.560311</td>\n      <td>-0.649682</td>\n      <td>-0.768907</td>\n    </tr>\n  </tbody>\n</table>\n</div>"
     },
     "metadata": {},
     "execution_count": 41
    }
   ],
   "source": [
    "# list or array of integers \n",
    "new_df.iloc[[1, 2, 3, 4], [0, 1, 2]]"
   ]
  },
  {
   "cell_type": "code",
   "execution_count": 42,
   "metadata": {},
   "outputs": [
    {
     "output_type": "execute_result",
     "data": {
      "text/plain": "          A         B         C         D\n0  0.952954 -1.310324 -1.376740  0.276258\n1  1.493595  0.539705  0.969513 -0.617174\n2  0.611367  0.488150  1.022522  0.229638",
      "text/html": "<div>\n<style scoped>\n    .dataframe tbody tr th:only-of-type {\n        vertical-align: middle;\n    }\n\n    .dataframe tbody tr th {\n        vertical-align: top;\n    }\n\n    .dataframe thead th {\n        text-align: right;\n    }\n</style>\n<table border=\"1\" class=\"dataframe\">\n  <thead>\n    <tr style=\"text-align: right;\">\n      <th></th>\n      <th>A</th>\n      <th>B</th>\n      <th>C</th>\n      <th>D</th>\n    </tr>\n  </thead>\n  <tbody>\n    <tr>\n      <th>0</th>\n      <td>0.952954</td>\n      <td>-1.310324</td>\n      <td>-1.376740</td>\n      <td>0.276258</td>\n    </tr>\n    <tr>\n      <th>1</th>\n      <td>1.493595</td>\n      <td>0.539705</td>\n      <td>0.969513</td>\n      <td>-0.617174</td>\n    </tr>\n    <tr>\n      <th>2</th>\n      <td>0.611367</td>\n      <td>0.488150</td>\n      <td>1.022522</td>\n      <td>0.229638</td>\n    </tr>\n  </tbody>\n</table>\n</div>"
     },
     "metadata": {},
     "execution_count": 42
    }
   ],
   "source": [
    "# integer slicing\n",
    "new_df.iloc[:3]"
   ]
  },
  {
   "cell_type": "code",
   "execution_count": 43,
   "metadata": {},
   "outputs": [
    {
     "output_type": "execute_result",
     "data": {
      "text/plain": "          A         B         C\n0  0.952954 -1.310324 -1.376740\n1  1.493595  0.539705  0.969513\n2  0.611367  0.488150  1.022522\n3 -0.650225  1.571667 -1.204090\n4  0.560311 -0.649682 -0.768907\n5 -1.647243 -1.217747  0.783886\n6  0.970983 -1.508581 -0.842256\n7  1.271112  2.321445  0.033766\n8  0.126584 -0.203787  1.253717\n9 -1.679669 -0.479596  2.071345",
      "text/html": "<div>\n<style scoped>\n    .dataframe tbody tr th:only-of-type {\n        vertical-align: middle;\n    }\n\n    .dataframe tbody tr th {\n        vertical-align: top;\n    }\n\n    .dataframe thead th {\n        text-align: right;\n    }\n</style>\n<table border=\"1\" class=\"dataframe\">\n  <thead>\n    <tr style=\"text-align: right;\">\n      <th></th>\n      <th>A</th>\n      <th>B</th>\n      <th>C</th>\n    </tr>\n  </thead>\n  <tbody>\n    <tr>\n      <th>0</th>\n      <td>0.952954</td>\n      <td>-1.310324</td>\n      <td>-1.376740</td>\n    </tr>\n    <tr>\n      <th>1</th>\n      <td>1.493595</td>\n      <td>0.539705</td>\n      <td>0.969513</td>\n    </tr>\n    <tr>\n      <th>2</th>\n      <td>0.611367</td>\n      <td>0.488150</td>\n      <td>1.022522</td>\n    </tr>\n    <tr>\n      <th>3</th>\n      <td>-0.650225</td>\n      <td>1.571667</td>\n      <td>-1.204090</td>\n    </tr>\n    <tr>\n      <th>4</th>\n      <td>0.560311</td>\n      <td>-0.649682</td>\n      <td>-0.768907</td>\n    </tr>\n    <tr>\n      <th>5</th>\n      <td>-1.647243</td>\n      <td>-1.217747</td>\n      <td>0.783886</td>\n    </tr>\n    <tr>\n      <th>6</th>\n      <td>0.970983</td>\n      <td>-1.508581</td>\n      <td>-0.842256</td>\n    </tr>\n    <tr>\n      <th>7</th>\n      <td>1.271112</td>\n      <td>2.321445</td>\n      <td>0.033766</td>\n    </tr>\n    <tr>\n      <th>8</th>\n      <td>0.126584</td>\n      <td>-0.203787</td>\n      <td>1.253717</td>\n    </tr>\n    <tr>\n      <th>9</th>\n      <td>-1.679669</td>\n      <td>-0.479596</td>\n      <td>2.071345</td>\n    </tr>\n  </tbody>\n</table>\n</div>"
     },
     "metadata": {},
     "execution_count": 43
    }
   ],
   "source": [
    "# slice obejct by column \n",
    "new_df.iloc[:, :3]"
   ]
  },
  {
   "cell_type": "code",
   "execution_count": 44,
   "metadata": {},
   "outputs": [
    {
     "output_type": "execute_result",
     "data": {
      "text/plain": "       A      B      C      D\n1   True   True   True  False\n2   True  False   True  False\n3  False   True  False   True\n4   True  False  False   True\n5  False  False   True  False\n6   True  False  False  False\n7   True   True  False   True\n8  False  False   True   True\n9  False  False   True   True",
      "text/html": "<div>\n<style scoped>\n    .dataframe tbody tr th:only-of-type {\n        vertical-align: middle;\n    }\n\n    .dataframe tbody tr th {\n        vertical-align: top;\n    }\n\n    .dataframe thead th {\n        text-align: right;\n    }\n</style>\n<table border=\"1\" class=\"dataframe\">\n  <thead>\n    <tr style=\"text-align: right;\">\n      <th></th>\n      <th>A</th>\n      <th>B</th>\n      <th>C</th>\n      <th>D</th>\n    </tr>\n  </thead>\n  <tbody>\n    <tr>\n      <th>1</th>\n      <td>True</td>\n      <td>True</td>\n      <td>True</td>\n      <td>False</td>\n    </tr>\n    <tr>\n      <th>2</th>\n      <td>True</td>\n      <td>False</td>\n      <td>True</td>\n      <td>False</td>\n    </tr>\n    <tr>\n      <th>3</th>\n      <td>False</td>\n      <td>True</td>\n      <td>False</td>\n      <td>True</td>\n    </tr>\n    <tr>\n      <th>4</th>\n      <td>True</td>\n      <td>False</td>\n      <td>False</td>\n      <td>True</td>\n    </tr>\n    <tr>\n      <th>5</th>\n      <td>False</td>\n      <td>False</td>\n      <td>True</td>\n      <td>False</td>\n    </tr>\n    <tr>\n      <th>6</th>\n      <td>True</td>\n      <td>False</td>\n      <td>False</td>\n      <td>False</td>\n    </tr>\n    <tr>\n      <th>7</th>\n      <td>True</td>\n      <td>True</td>\n      <td>False</td>\n      <td>True</td>\n    </tr>\n    <tr>\n      <th>8</th>\n      <td>False</td>\n      <td>False</td>\n      <td>True</td>\n      <td>True</td>\n    </tr>\n    <tr>\n      <th>9</th>\n      <td>False</td>\n      <td>False</td>\n      <td>True</td>\n      <td>True</td>\n    </tr>\n  </tbody>\n</table>\n</div>"
     },
     "metadata": {},
     "execution_count": 44
    }
   ],
   "source": [
    "# a boolean array\n",
    "new_df.iloc[1:] > 0.5"
   ]
  },
  {
   "cell_type": "code",
   "execution_count": 48,
   "metadata": {},
   "outputs": [
    {
     "output_type": "execute_result",
     "data": {
      "text/plain": "Empty DataFrame\nColumns: [A, B, C, D]\nIndex: []",
      "text/html": "<div>\n<style scoped>\n    .dataframe tbody tr th:only-of-type {\n        vertical-align: middle;\n    }\n\n    .dataframe tbody tr th {\n        vertical-align: top;\n    }\n\n    .dataframe thead th {\n        text-align: right;\n    }\n</style>\n<table border=\"1\" class=\"dataframe\">\n  <thead>\n    <tr style=\"text-align: right;\">\n      <th></th>\n      <th>A</th>\n      <th>B</th>\n      <th>C</th>\n      <th>D</th>\n    </tr>\n  </thead>\n  <tbody>\n  </tbody>\n</table>\n</div>"
     },
     "metadata": {},
     "execution_count": 48
    }
   ],
   "source": [
    "# out of bounds\n",
    "new_df.iloc[10:13]"
   ]
  },
  {
   "cell_type": "markdown",
   "metadata": {},
   "source": [
    "## Selecting by a callable"
   ]
  },
  {
   "cell_type": "code",
   "execution_count": 50,
   "metadata": {},
   "outputs": [
    {
     "output_type": "execute_result",
     "data": {
      "text/plain": "          A         B         C         D\n0  0.952954 -1.310324 -1.376740  0.276258\n1  1.493595  0.539705  0.969513 -0.617174\n2  0.611367  0.488150  1.022522  0.229638\n3 -0.650225  1.571667 -1.204090  0.637101\n4  0.560311 -0.649682 -0.768907  0.977468\n5 -1.647243 -1.217747  0.783886  0.401624\n6  0.970983 -1.508581 -0.842256 -0.659852\n7  1.271112  2.321445  0.033766  0.984220\n8  0.126584 -0.203787  1.253717  0.947080\n9 -1.679669 -0.479596  2.071345  1.182526",
      "text/html": "<div>\n<style scoped>\n    .dataframe tbody tr th:only-of-type {\n        vertical-align: middle;\n    }\n\n    .dataframe tbody tr th {\n        vertical-align: top;\n    }\n\n    .dataframe thead th {\n        text-align: right;\n    }\n</style>\n<table border=\"1\" class=\"dataframe\">\n  <thead>\n    <tr style=\"text-align: right;\">\n      <th></th>\n      <th>A</th>\n      <th>B</th>\n      <th>C</th>\n      <th>D</th>\n    </tr>\n  </thead>\n  <tbody>\n    <tr>\n      <th>0</th>\n      <td>0.952954</td>\n      <td>-1.310324</td>\n      <td>-1.376740</td>\n      <td>0.276258</td>\n    </tr>\n    <tr>\n      <th>1</th>\n      <td>1.493595</td>\n      <td>0.539705</td>\n      <td>0.969513</td>\n      <td>-0.617174</td>\n    </tr>\n    <tr>\n      <th>2</th>\n      <td>0.611367</td>\n      <td>0.488150</td>\n      <td>1.022522</td>\n      <td>0.229638</td>\n    </tr>\n    <tr>\n      <th>3</th>\n      <td>-0.650225</td>\n      <td>1.571667</td>\n      <td>-1.204090</td>\n      <td>0.637101</td>\n    </tr>\n    <tr>\n      <th>4</th>\n      <td>0.560311</td>\n      <td>-0.649682</td>\n      <td>-0.768907</td>\n      <td>0.977468</td>\n    </tr>\n    <tr>\n      <th>5</th>\n      <td>-1.647243</td>\n      <td>-1.217747</td>\n      <td>0.783886</td>\n      <td>0.401624</td>\n    </tr>\n    <tr>\n      <th>6</th>\n      <td>0.970983</td>\n      <td>-1.508581</td>\n      <td>-0.842256</td>\n      <td>-0.659852</td>\n    </tr>\n    <tr>\n      <th>7</th>\n      <td>1.271112</td>\n      <td>2.321445</td>\n      <td>0.033766</td>\n      <td>0.984220</td>\n    </tr>\n    <tr>\n      <th>8</th>\n      <td>0.126584</td>\n      <td>-0.203787</td>\n      <td>1.253717</td>\n      <td>0.947080</td>\n    </tr>\n    <tr>\n      <th>9</th>\n      <td>-1.679669</td>\n      <td>-0.479596</td>\n      <td>2.071345</td>\n      <td>1.182526</td>\n    </tr>\n  </tbody>\n</table>\n</div>"
     },
     "metadata": {},
     "execution_count": 50
    }
   ],
   "source": [
    "new_df"
   ]
  },
  {
   "cell_type": "code",
   "execution_count": 51,
   "metadata": {},
   "outputs": [
    {
     "output_type": "execute_result",
     "data": {
      "text/plain": "0    0.276258\n1   -0.617174\n2    0.229638\n3    0.637101\n4    0.977468\n5    0.401624\n6   -0.659852\n7    0.984220\n8    0.947080\n9    1.182526\nName: D, dtype: float64"
     },
     "metadata": {},
     "execution_count": 51
    }
   ],
   "source": [
    "# selection by a callable using []\n",
    "new_df[lambda df: df.columns[3]]"
   ]
  },
  {
   "cell_type": "code",
   "execution_count": 185,
   "metadata": {},
   "outputs": [
    {
     "output_type": "execute_result",
     "data": {
      "text/plain": "          A         B\n0  0.952954 -1.310324\n1  1.493595  0.539705\n2  0.611367  0.488150\n3 -0.650225  1.571667\n4  0.560311 -0.649682\n5 -1.647243 -1.217747\n6  0.970983 -1.508581\n7  1.271112  2.321445\n8  0.126584 -0.203787\n9 -1.679669 -0.479596",
      "text/html": "<div>\n<style scoped>\n    .dataframe tbody tr th:only-of-type {\n        vertical-align: middle;\n    }\n\n    .dataframe tbody tr th {\n        vertical-align: top;\n    }\n\n    .dataframe thead th {\n        text-align: right;\n    }\n</style>\n<table border=\"1\" class=\"dataframe\">\n  <thead>\n    <tr style=\"text-align: right;\">\n      <th></th>\n      <th>A</th>\n      <th>B</th>\n    </tr>\n  </thead>\n  <tbody>\n    <tr>\n      <th>0</th>\n      <td>0.952954</td>\n      <td>-1.310324</td>\n    </tr>\n    <tr>\n      <th>1</th>\n      <td>1.493595</td>\n      <td>0.539705</td>\n    </tr>\n    <tr>\n      <th>2</th>\n      <td>0.611367</td>\n      <td>0.488150</td>\n    </tr>\n    <tr>\n      <th>3</th>\n      <td>-0.650225</td>\n      <td>1.571667</td>\n    </tr>\n    <tr>\n      <th>4</th>\n      <td>0.560311</td>\n      <td>-0.649682</td>\n    </tr>\n    <tr>\n      <th>5</th>\n      <td>-1.647243</td>\n      <td>-1.217747</td>\n    </tr>\n    <tr>\n      <th>6</th>\n      <td>0.970983</td>\n      <td>-1.508581</td>\n    </tr>\n    <tr>\n      <th>7</th>\n      <td>1.271112</td>\n      <td>2.321445</td>\n    </tr>\n    <tr>\n      <th>8</th>\n      <td>0.126584</td>\n      <td>-0.203787</td>\n    </tr>\n    <tr>\n      <th>9</th>\n      <td>-1.679669</td>\n      <td>-0.479596</td>\n    </tr>\n  </tbody>\n</table>\n</div>"
     },
     "metadata": {},
     "execution_count": 185
    }
   ],
   "source": [
    "# selection by df using .loc\n",
    "new_df.loc[:, lambda df: [\"A\", \"B\"]]"
   ]
  },
  {
   "cell_type": "code",
   "execution_count": 54,
   "metadata": {},
   "outputs": [
    {
     "output_type": "execute_result",
     "data": {
      "text/plain": "          A         B\n0  0.952954 -1.310324\n1  1.493595  0.539705\n2  0.611367  0.488150\n3 -0.650225  1.571667\n4  0.560311 -0.649682\n5 -1.647243 -1.217747\n6  0.970983 -1.508581\n7  1.271112  2.321445\n8  0.126584 -0.203787\n9 -1.679669 -0.479596",
      "text/html": "<div>\n<style scoped>\n    .dataframe tbody tr th:only-of-type {\n        vertical-align: middle;\n    }\n\n    .dataframe tbody tr th {\n        vertical-align: top;\n    }\n\n    .dataframe thead th {\n        text-align: right;\n    }\n</style>\n<table border=\"1\" class=\"dataframe\">\n  <thead>\n    <tr style=\"text-align: right;\">\n      <th></th>\n      <th>A</th>\n      <th>B</th>\n    </tr>\n  </thead>\n  <tbody>\n    <tr>\n      <th>0</th>\n      <td>0.952954</td>\n      <td>-1.310324</td>\n    </tr>\n    <tr>\n      <th>1</th>\n      <td>1.493595</td>\n      <td>0.539705</td>\n    </tr>\n    <tr>\n      <th>2</th>\n      <td>0.611367</td>\n      <td>0.488150</td>\n    </tr>\n    <tr>\n      <th>3</th>\n      <td>-0.650225</td>\n      <td>1.571667</td>\n    </tr>\n    <tr>\n      <th>4</th>\n      <td>0.560311</td>\n      <td>-0.649682</td>\n    </tr>\n    <tr>\n      <th>5</th>\n      <td>-1.647243</td>\n      <td>-1.217747</td>\n    </tr>\n    <tr>\n      <th>6</th>\n      <td>0.970983</td>\n      <td>-1.508581</td>\n    </tr>\n    <tr>\n      <th>7</th>\n      <td>1.271112</td>\n      <td>2.321445</td>\n    </tr>\n    <tr>\n      <th>8</th>\n      <td>0.126584</td>\n      <td>-0.203787</td>\n    </tr>\n    <tr>\n      <th>9</th>\n      <td>-1.679669</td>\n      <td>-0.479596</td>\n    </tr>\n  </tbody>\n</table>\n</div>"
     },
     "metadata": {},
     "execution_count": 54
    }
   ],
   "source": [
    "# selection by df using .iloc\n",
    "new_df.iloc[:, lambda df: [0, 1]]"
   ]
  }
 ],
 "metadata": {
  "language_info": {
   "codemirror_mode": {
    "name": "ipython",
    "version": 3
   },
   "file_extension": ".py",
   "mimetype": "text/x-python",
   "name": "python",
   "nbconvert_exporter": "python",
   "pygments_lexer": "ipython3",
   "version": "3.8.2-final"
  },
  "orig_nbformat": 2,
  "kernelspec": {
   "name": "python38264bitconda17b1cc6b0e6f4854b7f0da0cf005d246",
   "display_name": "Python 3.8.2 64-bit (conda)"
  }
 },
 "nbformat": 4,
 "nbformat_minor": 2
}