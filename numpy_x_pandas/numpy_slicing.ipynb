{
 "cells": [
  {
   "cell_type": "code",
   "execution_count": 1,
   "metadata": {},
   "outputs": [],
   "source": [
    "import numpy as np "
   ]
  },
  {
   "cell_type": "markdown",
   "metadata": {},
   "source": [
    "## Slicing List Data Types"
   ]
  },
  {
   "cell_type": "code",
   "execution_count": 2,
   "metadata": {},
   "outputs": [
    {
     "output_type": "stream",
     "name": "stdout",
     "text": "[1, 2, 3, 4, 5]\n"
    }
   ],
   "source": [
    "# Creating a list \n",
    "a = [1, 2, 3, 4, 5]\n",
    "print(a)"
   ]
  },
  {
   "cell_type": "code",
   "execution_count": 3,
   "metadata": {},
   "outputs": [
    {
     "output_type": "stream",
     "name": "stdout",
     "text": "[2, 3, 4]\n"
    }
   ],
   "source": [
    "# Slicing a list\n",
    "b = a[1:4]\n",
    "print(b)"
   ]
  },
  {
   "cell_type": "code",
   "execution_count": 4,
   "metadata": {},
   "outputs": [
    {
     "output_type": "stream",
     "name": "stdout",
     "text": "List c: [1, 2, 3]\nList d: [3, 4, 5]\nList e: [1, 2, 3, 4, 5]\n"
    }
   ],
   "source": [
    "# Demonstrating slice notation\n",
    "c = a[:3]\n",
    "d = a[2:]\n",
    "e = a[:]\n",
    "print(f\"List c: {c}\\nList d: {d}\\nList e: {e}\")"
   ]
  },
  {
   "cell_type": "code",
   "execution_count": 6,
   "metadata": {},
   "outputs": [
    {
     "output_type": "stream",
     "name": "stdout",
     "text": "f: 3\ng: [3]\n"
    }
   ],
   "source": [
    "# indexing list vs slicing list\n",
    "f = a[2]\n",
    "g = a[2:3]\n",
    "print(f\"f: {f}\\ng: {g}\")"
   ]
  },
  {
   "cell_type": "markdown",
   "metadata": {},
   "source": [
    "## Slicing 1D Arrays"
   ]
  },
  {
   "cell_type": "code",
   "execution_count": 10,
   "metadata": {},
   "outputs": [
    {
     "output_type": "stream",
     "name": "stdout",
     "text": "[2 3 4]\n"
    }
   ],
   "source": [
    "# slicing numpy array\n",
    "np_a = np.array([1, 2, 3, 4, 5])\n",
    "np_b = np_a[1:4]\n",
    "print(np_b)"
   ]
  },
  {
   "cell_type": "code",
   "execution_count": 11,
   "metadata": {},
   "outputs": [
    {
     "output_type": "stream",
     "name": "stdout",
     "text": "Original Array: [1 2 3 4 5]\nnp_b: [2 6 4]\nOriginal Array: [1 2 6 4 5]\n"
    }
   ],
   "source": [
    "# numpy returns a view of the original data\n",
    "print(f\"Original Array: {np_a}\")\n",
    "np_b[1] = 6\n",
    "print(f\"np_b: {np_b}\\nOriginal Array: {np_a}\")"
   ]
  },
  {
   "cell_type": "markdown",
   "metadata": {},
   "source": [
    "## Slicing 2D Arrays"
   ]
  },
  {
   "cell_type": "code",
   "execution_count": 12,
   "metadata": {},
   "outputs": [
    {
     "output_type": "stream",
     "name": "stdout",
     "text": "[[ 7  8]\n [12 13]\n [17 18]]\n"
    }
   ],
   "source": [
    "# creating and slicing 2D array in both axes\n",
    "a_2d = np.array([[1, 2, 3, 4, 5],\n",
    "                 [6, 7, 8, 9, 10],\n",
    "                 [11, 12, 13, 14, 15],\n",
    "                 [16, 17, 18, 19, 20]])\n",
    "print(a_2d[1:, 1:3])"
   ]
  },
  {
   "cell_type": "markdown",
   "metadata": {},
   "source": [
    "## Slicing 3D Arrays"
   ]
  },
  {
   "cell_type": "code",
   "execution_count": 13,
   "metadata": {},
   "outputs": [
    {
     "output_type": "stream",
     "name": "stdout",
     "text": "[[[13 14 15]\n  [16 17 18]]\n\n [[22 23 24]\n  [25 26 27]]]\n"
    }
   ],
   "source": [
    "# creating and slicing 3D array 3 axes (Plane, Row, Column)\n",
    "a_3d = np.array([[[1, 2, 3,], [4, 5, 6], [7, 8, 9]],\n",
    "                 [[10, 11, 12], [13, 14, 15], [16, 17, 18]],\n",
    "                 [[19, 20, 21], [22, 23, 24], [25, 26, 27]]])\n",
    "print(a_3d[1:, 1:, :])"
   ]
  },
  {
   "cell_type": "code",
   "execution_count": 21,
   "metadata": {},
   "outputs": [
    {
     "output_type": "stream",
     "name": "stdout",
     "text": "2D Array [[ True  True  True  True  True]\n [ True  True  True  True  True]]\n[[[ True  True  True]\n  [ True  True  True]]\n\n [[ True  True  True]\n  [ True  True  True]]]\n[[[ True  True  True]\n  [ True  True  True]\n  [ True  True  True]]]\n"
    }
   ],
   "source": [
    "# 2D Arrays\n",
    "print(a_2d[1:3, :] ==  a_2d[1:3])\n",
    "\n",
    "# 3D Arrays\n",
    "print(a_3d[1:, :2, :] == a_3d[1:, :2])\n",
    "print(a_3d[2:, :, :] == a_3d[2:, :])"
   ]
  },
  {
   "cell_type": "markdown",
   "metadata": {},
   "source": [
    "## Slicing and Indexing"
   ]
  },
  {
   "cell_type": "code",
   "execution_count": 22,
   "metadata": {},
   "outputs": [
    {
     "output_type": "stream",
     "name": "stdout",
     "text": "[8 9]\n"
    }
   ],
   "source": [
    "print(a_2d[1, 2:4])"
   ]
  },
  {
   "cell_type": "code",
   "execution_count": 23,
   "metadata": {},
   "outputs": [
    {
     "output_type": "stream",
     "name": "stdout",
     "text": "[[8 9]]\n"
    }
   ],
   "source": [
    "print(a_2d[1:2, 2:4])"
   ]
  }
 ],
 "metadata": {
  "language_info": {
   "codemirror_mode": {
    "name": "ipython",
    "version": 3
   },
   "file_extension": ".py",
   "mimetype": "text/x-python",
   "name": "python",
   "nbconvert_exporter": "python",
   "pygments_lexer": "ipython3",
   "version": "3.8.2-final"
  },
  "orig_nbformat": 2,
  "kernelspec": {
   "name": "python38264bitconda17b1cc6b0e6f4854b7f0da0cf005d246",
   "display_name": "Python 3.8.2 64-bit (conda)"
  }
 },
 "nbformat": 4,
 "nbformat_minor": 2
}